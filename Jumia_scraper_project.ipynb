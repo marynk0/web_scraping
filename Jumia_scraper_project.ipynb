{
 "cells": [
  {
   "cell_type": "code",
   "execution_count": 1,
   "id": "64ceff16",
   "metadata": {},
   "outputs": [],
   "source": [
    "#import libraries\n",
    "from bs4 import BeautifulSoup\n",
    "import requests\n",
    "import time\n",
    "import datetime\n",
    "import pandas as pd\n",
    "\n",
    "import smtplib"
   ]
  },
  {
   "cell_type": "code",
   "execution_count": 2,
   "id": "afa78984",
   "metadata": {},
   "outputs": [],
   "source": [
    "#connect to website\n",
    "\n",
    "URL = 'https://www.jumia.co.ke/generic-s7-sports-smart-watch-bluetooth-call-48760941.html'\n",
    "\n",
    "headers = { \"User-Agent\": \"Mozilla/5.0 (Windows NT 10.0; Win64; x64) AppleWebKit/537.36 (KHTML, like Gecko) Chrome/114.0.0.0 Safari/537.36 Edg/114.0.1823.58\",  \"Accept-Encoding\":\"gzip, deflate\", \"Accept\":\"text/html,application/xhtml+xml,application/xml;q=0.9,*/*;q=0.8\", \"DNT\":\"1\",\"Connection\":\"close\",  \"Upgrade-Insecure-Requests\":\"1\"}\n",
    "\n",
    "page = requests.get(URL, headers=headers)\n",
    "\n",
    "Soup1 = BeautifulSoup(page.content,\"html.parser\")\n",
    "Soup2 = BeautifulSoup(Soup1.prettify(), 'html.parser')\n",
    "\n",
    "title = Soup2.find('h1', class_=\"-fs20 -pts -pbxs\").get_text()\n",
    "#print (title)\n",
    "price = Soup2.find('span', class_=\"-b -ltr -tal -fs24\").get_text()\n",
    "#print(price)\n",
    "product_description = Soup2.find('div', class_=\"markup -mhm -pvl -oxa -sc\").get_text()\n",
    "#print(product_description)\n"
   ]
  },
  {
   "cell_type": "code",
   "execution_count": 3,
   "id": "2b80789c",
   "metadata": {},
   "outputs": [
    {
     "name": "stdout",
     "output_type": "stream",
     "text": [
      "Generic S7 Full Touch Sports Smart Watch Fitness Tracker Appels Bluetooth\n",
      "2,350\n"
     ]
    }
   ],
   "source": [
    "#data has spaces .strip()- removes the blanks  [4:]- everything past the 4th position- remove the ksh \n",
    "\n",
    "price = price.strip()[4:]\n",
    "title = title.strip()\n",
    "product_description.strip()\n",
    "print(title)\n",
    "print(price)"
   ]
  },
  {
   "cell_type": "code",
   "execution_count": 18,
   "id": "dcbc1a8f",
   "metadata": {
    "scrolled": true
   },
   "outputs": [
    {
     "name": "stdout",
     "output_type": "stream",
     "text": [
      "2023-06-29\n"
     ]
    }
   ],
   "source": [
    "import datetime\n",
    "data = datetime.date.today()\n",
    "print(today)"
   ]
  },
  {
   "cell_type": "code",
   "execution_count": 20,
   "id": "4ec4a293",
   "metadata": {
    "scrolled": true
   },
   "outputs": [],
   "source": [
    "import csv\n",
    "header = ['Title', 'Price', 'Date']\n",
    "data = [title, price,today]\n",
    "#important to take note of your data type\n",
    "#type(data)\n",
    "\n",
    "#'w' - means write, newline-  ensure that the line endings in your CSV file will match the line endings used in your Python script \n",
    "folder_path = \"G:\\\\NEW\\\\\"  # Specify the desired folder path\n",
    "file_name = \"JumiaWebScraperDataset.csv\"  # Specify the file name\n",
    "\n",
    "with open(folder_path + file_name, 'w', newline='', encoding='UTF8') as f:\n",
    "    writer = csv.writer(f)  # Creating the file\n",
    "    writer.writerow(header)  # Inserting the header data\n",
    "    writer.writerow(data)  # Inserting the data"
   ]
  },
  {
   "cell_type": "code",
   "execution_count": 23,
   "id": "b96841e9",
   "metadata": {
    "scrolled": true
   },
   "outputs": [
    {
     "name": "stdout",
     "output_type": "stream",
     "text": [
      "                                               Title  Price        Date\n",
      "0  Generic S7 Full Touch Sports Smart Watch Fitne...  2,350  2023-06-29\n",
      "1  Generic S7 Full Touch Sports Smart Watch Fitne...  2,350  2023-06-29\n"
     ]
    }
   ],
   "source": [
    "import pandas as pd\n",
    "df = pd.read_csv(r'G:\\NEW\\JumiaWebScraperDataset.csv')\n",
    "print(df)\n"
   ]
  },
  {
   "cell_type": "code",
   "execution_count": 22,
   "id": "3305de97",
   "metadata": {},
   "outputs": [],
   "source": [
    "#appending data to the csv -'a+', -we already have the header row\n",
    "\n",
    "with open(folder_path + file_name, 'a+', newline='', encoding='UTF8') as f:\n",
    "    writer = csv.writer(f)  # Creating the file\n",
    "    writer.writerow(data)  # Inserting the data"
   ]
  },
  {
   "cell_type": "code",
   "execution_count": 25,
   "id": "66259c5c",
   "metadata": {},
   "outputs": [],
   "source": [
    "#automate the above process\n",
    "#create a function\n",
    "\n",
    "\n",
    "def check_price():\n",
    "    URL = 'https://www.jumia.co.ke/generic-s7-sports-smart-watch-bluetooth-call-48760941.html'\n",
    "\n",
    "    headers = { \"User-Agent\": \"Mozilla/5.0 (Windows NT 10.0; Win64; x64) AppleWebKit/537.36 (KHTML, like Gecko) Chrome/114.0.0.0 Safari/537.36 Edg/114.0.1823.58\",  \"Accept-Encoding\":\"gzip, deflate\", \"Accept\":\"text/html,application/xhtml+xml,application/xml;q=0.9,*/*;q=0.8\", \"DNT\":\"1\",\"Connection\":\"close\",  \"Upgrade-Insecure-Requests\":\"1\"}\n",
    "\n",
    "    page = requests.get(URL, headers=headers)\n",
    "\n",
    "    Soup1 = BeautifulSoup(page.content,\"html.parser\")\n",
    "    Soup2 = BeautifulSoup(Soup1.prettify(), 'html.parser')\n",
    "\n",
    "    title = Soup2.find('h1', class_=\"-fs20 -pts -pbxs\").get_text()\n",
    "    #print (title)\n",
    "    price = Soup2.find('span', class_=\"-b -ltr -tal -fs24\").get_text()\n",
    "    #print(price)\n",
    "    product_description = Soup2.find('div', class_=\"markup -mhm -pvl -oxa -sc\").get_text()\n",
    "    #print(product_description)\n",
    "    \n",
    "    price = price.strip()[4:]\n",
    "    title = title.strip()\n",
    "    product_description.strip()\n",
    "    \n",
    "    \n",
    "    import datetime\n",
    "    data = datetime.date.today()\n",
    "    \n",
    "    import csv\n",
    "    header = ['Title', 'Price', 'Date']\n",
    "    data = [title, price,today]\n",
    "    \n",
    "    with open(folder_path + file_name, 'a+', newline='', encoding='UTF8') as f:\n",
    "        writer = csv.writer(f)  # Creating the file\n",
    "        writer.writerow(data)  # Inserting the data\n"
   ]
  },
  {
   "cell_type": "code",
   "execution_count": null,
   "id": "e23125d8",
   "metadata": {},
   "outputs": [],
   "source": [
    "#refresh and check the price, time.sleep()works with seconds\n",
    "while(True):\n",
    "    check_price()\n",
    "    time.sleep(86400)  #checks the price everyday"
   ]
  },
  {
   "cell_type": "code",
   "execution_count": null,
   "id": "f0b6c07e",
   "metadata": {
    "scrolled": true
   },
   "outputs": [],
   "source": [
    "import pandas as pd\n",
    "df = pd.read_csv(r'G:\\NEW\\JumiaWebScraperDataset.csv')\n",
    "print(df)"
   ]
  },
  {
   "cell_type": "code",
   "execution_count": null,
   "id": "6054d1c7",
   "metadata": {},
   "outputs": [],
   "source": []
  }
 ],
 "metadata": {
  "kernelspec": {
   "display_name": "Python 3 (ipykernel)",
   "language": "python",
   "name": "python3"
  },
  "language_info": {
   "codemirror_mode": {
    "name": "ipython",
    "version": 3
   },
   "file_extension": ".py",
   "mimetype": "text/x-python",
   "name": "python",
   "nbconvert_exporter": "python",
   "pygments_lexer": "ipython3",
   "version": "3.10.9"
  }
 },
 "nbformat": 4,
 "nbformat_minor": 5
}
